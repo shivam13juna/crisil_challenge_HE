{
 "cells": [
  {
   "cell_type": "code",
   "execution_count": 1,
   "metadata": {},
   "outputs": [],
   "source": [
    "import numpy as np\n",
    "import pandas as pd\n",
    "import sklearn\n",
    "from sklearn import preprocessing\n",
    "from tensorflow.keras.layers import *\n",
    "from tensorflow.keras.models import *\n",
    "import tensorflow as tf\n",
    "import matplotlib.pyplot as plt\n",
    "from sklearn.ensemble import RandomForestClassifier\n",
    "from sklearn.preprocessing import LabelEncoder, MinMaxScaler\n",
    "from scipy.stats import pearsonr\n",
    "from sklearn.model_selection import train_test_split\n",
    "from math import radians, cos, sin, asin, sqrt\n",
    "import seaborn as sns\n",
    "from sklearn.metrics import confusion_matrix, mean_absolute_error, mean_squared_error, r2_score\n",
    "from sklearn.linear_model import LinearRegression, ElasticNet\n",
    "from sklearn.svm import SVR\n",
    "from sklearn.decomposition import PCA\n",
    "import pandas_profiling as pp\n",
    "from tika import parser\n",
    "import pdfkit\n",
    "import pickle\n",
    "import os\n",
    "import string\n",
    "import spacy\n",
    "\n",
    "\n",
    "\n",
    "import tensorflow\n",
    "from tensorflow.keras.layers import Dense, Input, Conv1D, BatchNormalization, MaxPool1D\n",
    "from tensorflow.keras.optimizers import Adam\n",
    "from tensorflow.keras.callbacks import EarlyStopping, ModelCheckpoint\n",
    "\n",
    "\n",
    "%matplotlib inline"
   ]
  },
  {
   "cell_type": "markdown",
   "metadata": {},
   "source": [
    "<center><h1> Everything you need to know about dataset !!!</h1></center>\n",
    "<center><img src=\"new_data.png\"></center>"
   ]
  },
  {
   "cell_type": "markdown",
   "metadata": {},
   "source": [
    "# Reading and Pre-processing datasets"
   ]
  },
  {
   "cell_type": "code",
   "execution_count": 2,
   "metadata": {},
   "outputs": [],
   "source": [
    "train_files = os.listdir('Training Dataset')\n",
    "test_files = os.listdir('Test Data')\n",
    "result = pd.read_csv('Results2394dca.csv')\n",
    "pension = pd.read_excel('pension_good.xlsx')\n",
    "rules = pd.read_excel('rules.xlsx')\n",
    "# sample_data = pd.read_csv('')"
   ]
  },
  {
   "cell_type": "code",
   "execution_count": 3,
   "metadata": {},
   "outputs": [
    {
     "data": {
      "text/html": [
       "<div>\n",
       "<style scoped>\n",
       "    .dataframe tbody tr th:only-of-type {\n",
       "        vertical-align: middle;\n",
       "    }\n",
       "\n",
       "    .dataframe tbody tr th {\n",
       "        vertical-align: top;\n",
       "    }\n",
       "\n",
       "    .dataframe thead th {\n",
       "        text-align: right;\n",
       "    }\n",
       "</style>\n",
       "<table border=\"1\" class=\"dataframe\">\n",
       "  <thead>\n",
       "    <tr style=\"text-align: right;\">\n",
       "      <th></th>\n",
       "      <th>For Lookup</th>\n",
       "      <th>Year</th>\n",
       "      <th>Credit\n",
       "Name</th>\n",
       "      <th>State</th>\n",
       "      <th>Security\n",
       "ID</th>\n",
       "      <th>Org\n",
       "ID</th>\n",
       "      <th>FYE</th>\n",
       "      <th>Accounting Basis</th>\n",
       "      <th>Pension Plan 1 Name</th>\n",
       "      <th>Pension Plan 1 Measurement Date</th>\n",
       "      <th>Pension Plan 1 Total Pension Liability</th>\n",
       "      <th>Balance Sheet Cash</th>\n",
       "      <th>Pension Plan 2 Name</th>\n",
       "      <th>Pension Plan 2 Measurement Date</th>\n",
       "      <th>Pension Plan 2 Total Pension Liability</th>\n",
       "    </tr>\n",
       "  </thead>\n",
       "  <tbody>\n",
       "    <tr>\n",
       "      <th>0</th>\n",
       "      <td>NaN</td>\n",
       "      <td>2017</td>\n",
       "      <td>Calhoun</td>\n",
       "      <td>GA</td>\n",
       "      <td>1013737</td>\n",
       "      <td>8612</td>\n",
       "      <td>2017-07-30</td>\n",
       "      <td>Accrual</td>\n",
       "      <td>GA_Muni Asso</td>\n",
       "      <td>June 30, 2017</td>\n",
       "      <td>13278.249</td>\n",
       "      <td>1619.554</td>\n",
       "      <td>GA_City Charter Unfunded Pen Plan</td>\n",
       "      <td>0</td>\n",
       "      <td>402.436</td>\n",
       "    </tr>\n",
       "    <tr>\n",
       "      <th>1</th>\n",
       "      <td>NaN</td>\n",
       "      <td>2017</td>\n",
       "      <td>Engelwood</td>\n",
       "      <td>CO</td>\n",
       "      <td>1028564</td>\n",
       "      <td>12020</td>\n",
       "      <td>2017-12-31</td>\n",
       "      <td>Accrual</td>\n",
       "      <td>CO_Nonemer Emp Ret Sys</td>\n",
       "      <td>Dec 31, 2017</td>\n",
       "      <td>43838.563</td>\n",
       "      <td>12175.360</td>\n",
       "      <td>CO_Pol Off Pen Plan</td>\n",
       "      <td>0</td>\n",
       "      <td>0.000</td>\n",
       "    </tr>\n",
       "    <tr>\n",
       "      <th>2</th>\n",
       "      <td>NaN</td>\n",
       "      <td>2017</td>\n",
       "      <td>Detroit</td>\n",
       "      <td>MI</td>\n",
       "      <td>711506</td>\n",
       "      <td>494151</td>\n",
       "      <td>2017-06-30</td>\n",
       "      <td>Accrual</td>\n",
       "      <td>MI_Gen Ret Sys</td>\n",
       "      <td>June 30, 2016</td>\n",
       "      <td>NaN</td>\n",
       "      <td>517113.529</td>\n",
       "      <td>MI_Pol &amp; Fire Ret Sys</td>\n",
       "      <td>0</td>\n",
       "      <td>0.000</td>\n",
       "    </tr>\n",
       "    <tr>\n",
       "      <th>3</th>\n",
       "      <td>NaN</td>\n",
       "      <td>2017</td>\n",
       "      <td>Joplin</td>\n",
       "      <td>MO</td>\n",
       "      <td>702336</td>\n",
       "      <td>326056</td>\n",
       "      <td>2017-10-31</td>\n",
       "      <td>Accrual</td>\n",
       "      <td>MO_Polman &amp; Firemen Pen Plan</td>\n",
       "      <td>Oct 31, 2017</td>\n",
       "      <td>64303.000</td>\n",
       "      <td>6483.409</td>\n",
       "      <td>MO_Loc Govt Emp Ret Sys</td>\n",
       "      <td>June 30, 2017</td>\n",
       "      <td>52488.000</td>\n",
       "    </tr>\n",
       "    <tr>\n",
       "      <th>4</th>\n",
       "      <td>NaN</td>\n",
       "      <td>2017</td>\n",
       "      <td>Orange</td>\n",
       "      <td>TX</td>\n",
       "      <td>1029684</td>\n",
       "      <td>27613</td>\n",
       "      <td>2017-09-30</td>\n",
       "      <td>Accrual</td>\n",
       "      <td>TX_Firemen Reli &amp; Ret Fund</td>\n",
       "      <td>Dec 31, 2016</td>\n",
       "      <td>64303.000</td>\n",
       "      <td>6822.493</td>\n",
       "      <td>TX_Muni Ret Sys</td>\n",
       "      <td>0</td>\n",
       "      <td>19344.058</td>\n",
       "    </tr>\n",
       "  </tbody>\n",
       "</table>\n",
       "</div>"
      ],
      "text/plain": [
       "   For Lookup  Year Credit\\nName State  Security\\nID  Org\\nID        FYE  \\\n",
       "0         NaN  2017      Calhoun    GA       1013737     8612 2017-07-30   \n",
       "1         NaN  2017    Engelwood    CO       1028564    12020 2017-12-31   \n",
       "2         NaN  2017      Detroit    MI        711506   494151 2017-06-30   \n",
       "3         NaN  2017       Joplin    MO        702336   326056 2017-10-31   \n",
       "4         NaN  2017       Orange    TX       1029684    27613 2017-09-30   \n",
       "\n",
       "  Accounting Basis           Pension Plan 1 Name  \\\n",
       "0          Accrual                  GA_Muni Asso   \n",
       "1          Accrual        CO_Nonemer Emp Ret Sys   \n",
       "2          Accrual                MI_Gen Ret Sys   \n",
       "3          Accrual  MO_Polman & Firemen Pen Plan   \n",
       "4          Accrual    TX_Firemen Reli & Ret Fund   \n",
       "\n",
       "  Pension Plan 1 Measurement Date  Pension Plan 1 Total Pension Liability  \\\n",
       "0                   June 30, 2017                               13278.249   \n",
       "1                    Dec 31, 2017                               43838.563   \n",
       "2                   June 30, 2016                                     NaN   \n",
       "3                    Oct 31, 2017                               64303.000   \n",
       "4                    Dec 31, 2016                               64303.000   \n",
       "\n",
       "   Balance Sheet Cash                Pension Plan 2 Name  \\\n",
       "0            1619.554  GA_City Charter Unfunded Pen Plan   \n",
       "1           12175.360                CO_Pol Off Pen Plan   \n",
       "2          517113.529              MI_Pol & Fire Ret Sys   \n",
       "3            6483.409            MO_Loc Govt Emp Ret Sys   \n",
       "4            6822.493                    TX_Muni Ret Sys   \n",
       "\n",
       "  Pension Plan 2 Measurement Date  Pension Plan 2 Total Pension Liability  \n",
       "0                               0                                 402.436  \n",
       "1                               0                                   0.000  \n",
       "2                               0                                   0.000  \n",
       "3                   June 30, 2017                               52488.000  \n",
       "4                               0                               19344.058  "
      ]
     },
     "execution_count": 3,
     "metadata": {},
     "output_type": "execute_result"
    }
   ],
   "source": [
    "rules.head()"
   ]
  },
  {
   "cell_type": "code",
   "execution_count": 4,
   "metadata": {},
   "outputs": [
    {
     "data": {
      "text/html": [
       "<div>\n",
       "<style scoped>\n",
       "    .dataframe tbody tr th:only-of-type {\n",
       "        vertical-align: middle;\n",
       "    }\n",
       "\n",
       "    .dataframe tbody tr th {\n",
       "        vertical-align: top;\n",
       "    }\n",
       "\n",
       "    .dataframe thead th {\n",
       "        text-align: right;\n",
       "    }\n",
       "</style>\n",
       "<table border=\"1\" class=\"dataframe\">\n",
       "  <thead>\n",
       "    <tr style=\"text-align: right;\">\n",
       "      <th></th>\n",
       "      <th>For Lookup</th>\n",
       "      <th>Year</th>\n",
       "      <th>Credit\n",
       "Name</th>\n",
       "      <th>State</th>\n",
       "      <th>Security\n",
       "ID</th>\n",
       "      <th>Org\n",
       "ID</th>\n",
       "      <th>FYE</th>\n",
       "      <th>Accounting Basis</th>\n",
       "      <th>Pension Plan 1 Name</th>\n",
       "      <th>Pension Plan 1 Measurement Date</th>\n",
       "      <th>Pension Plan 1 Total Pension Liability</th>\n",
       "      <th>Balance Sheet Cash</th>\n",
       "      <th>Pension Plan 2 Name</th>\n",
       "      <th>Pension Plan 2 Measurement Date</th>\n",
       "      <th>Pension Plan 2 Total Pension Liability</th>\n",
       "    </tr>\n",
       "  </thead>\n",
       "  <tbody>\n",
       "    <tr>\n",
       "      <th>0</th>\n",
       "      <td>1013737_2016</td>\n",
       "      <td>2016</td>\n",
       "      <td>Jeannette</td>\n",
       "      <td>PA</td>\n",
       "      <td>1013737</td>\n",
       "      <td>8612</td>\n",
       "      <td>31/12/2016</td>\n",
       "      <td>NaN</td>\n",
       "      <td>NaN</td>\n",
       "      <td>NaN</td>\n",
       "      <td>NaN</td>\n",
       "      <td>NaN</td>\n",
       "      <td>NaN</td>\n",
       "      <td>NaN</td>\n",
       "      <td>NaN</td>\n",
       "    </tr>\n",
       "    <tr>\n",
       "      <th>1</th>\n",
       "      <td>1028564_2016</td>\n",
       "      <td>2016</td>\n",
       "      <td>Dickinson</td>\n",
       "      <td>ND</td>\n",
       "      <td>1028564</td>\n",
       "      <td>12020</td>\n",
       "      <td>31/12/2016</td>\n",
       "      <td>NaN</td>\n",
       "      <td>NaN</td>\n",
       "      <td>NaN</td>\n",
       "      <td>NaN</td>\n",
       "      <td>NaN</td>\n",
       "      <td>NaN</td>\n",
       "      <td>NaN</td>\n",
       "      <td>NaN</td>\n",
       "    </tr>\n",
       "    <tr>\n",
       "      <th>2</th>\n",
       "      <td>711506_2016</td>\n",
       "      <td>2016</td>\n",
       "      <td>Rawlins County</td>\n",
       "      <td>KS</td>\n",
       "      <td>711506</td>\n",
       "      <td>494151</td>\n",
       "      <td>31/12/2016</td>\n",
       "      <td>NaN</td>\n",
       "      <td>NaN</td>\n",
       "      <td>NaN</td>\n",
       "      <td>NaN</td>\n",
       "      <td>NaN</td>\n",
       "      <td>NaN</td>\n",
       "      <td>NaN</td>\n",
       "      <td>NaN</td>\n",
       "    </tr>\n",
       "    <tr>\n",
       "      <th>3</th>\n",
       "      <td>702336_2016</td>\n",
       "      <td>2016</td>\n",
       "      <td>Stone County</td>\n",
       "      <td>MO</td>\n",
       "      <td>702336</td>\n",
       "      <td>326056</td>\n",
       "      <td>31/12/2016</td>\n",
       "      <td>NaN</td>\n",
       "      <td>NaN</td>\n",
       "      <td>NaN</td>\n",
       "      <td>NaN</td>\n",
       "      <td>NaN</td>\n",
       "      <td>NaN</td>\n",
       "      <td>NaN</td>\n",
       "      <td>NaN</td>\n",
       "    </tr>\n",
       "    <tr>\n",
       "      <th>4</th>\n",
       "      <td>1029684_2017</td>\n",
       "      <td>2017</td>\n",
       "      <td>Anchorage</td>\n",
       "      <td>AK</td>\n",
       "      <td>1029684</td>\n",
       "      <td>27613</td>\n",
       "      <td>31/12/2017</td>\n",
       "      <td>NaN</td>\n",
       "      <td>NaN</td>\n",
       "      <td>NaN</td>\n",
       "      <td>NaN</td>\n",
       "      <td>NaN</td>\n",
       "      <td>NaN</td>\n",
       "      <td>NaN</td>\n",
       "      <td>NaN</td>\n",
       "    </tr>\n",
       "  </tbody>\n",
       "</table>\n",
       "</div>"
      ],
      "text/plain": [
       "     For Lookup  Year     Credit\\nName State  Security\\nID  Org\\nID  \\\n",
       "0  1013737_2016  2016        Jeannette    PA       1013737     8612   \n",
       "1  1028564_2016  2016        Dickinson    ND       1028564    12020   \n",
       "2   711506_2016  2016  Rawlins County     KS        711506   494151   \n",
       "3   702336_2016  2016     Stone County    MO        702336   326056   \n",
       "4  1029684_2017  2017        Anchorage    AK       1029684    27613   \n",
       "\n",
       "          FYE  Accounting Basis  Pension Plan 1 Name  \\\n",
       "0  31/12/2016               NaN                  NaN   \n",
       "1  31/12/2016               NaN                  NaN   \n",
       "2  31/12/2016               NaN                  NaN   \n",
       "3  31/12/2016               NaN                  NaN   \n",
       "4  31/12/2017               NaN                  NaN   \n",
       "\n",
       "   Pension Plan 1 Measurement Date  Pension Plan 1 Total Pension Liability  \\\n",
       "0                              NaN                                     NaN   \n",
       "1                              NaN                                     NaN   \n",
       "2                              NaN                                     NaN   \n",
       "3                              NaN                                     NaN   \n",
       "4                              NaN                                     NaN   \n",
       "\n",
       "   Balance Sheet Cash  Pension Plan 2 Name  Pension Plan 2 Measurement Date  \\\n",
       "0                 NaN                  NaN                              NaN   \n",
       "1                 NaN                  NaN                              NaN   \n",
       "2                 NaN                  NaN                              NaN   \n",
       "3                 NaN                  NaN                              NaN   \n",
       "4                 NaN                  NaN                              NaN   \n",
       "\n",
       "   Pension Plan 2 Total Pension Liability  \n",
       "0                                     NaN  \n",
       "1                                     NaN  \n",
       "2                                     NaN  \n",
       "3                                     NaN  \n",
       "4                                     NaN  "
      ]
     },
     "execution_count": 4,
     "metadata": {},
     "output_type": "execute_result"
    }
   ],
   "source": [
    "result.head()"
   ]
  },
  {
   "cell_type": "code",
   "execution_count": 5,
   "metadata": {},
   "outputs": [
    {
     "data": {
      "text/plain": [
       "Index(['For Lookup', 'Year', 'Credit\\nName', 'State', 'Security\\nID',\n",
       "       'Org\\nID', 'FYE', 'Accounting Basis', 'Pension Plan 1 Name',\n",
       "       'Pension Plan 1 Measurement Date',\n",
       "       'Pension Plan 1 Total Pension Liability', 'Balance Sheet Cash',\n",
       "       'Pension Plan 2 Name', 'Pension Plan 2 Measurement Date',\n",
       "       'Pension Plan 2 Total Pension Liability'],\n",
       "      dtype='object')"
      ]
     },
     "execution_count": 5,
     "metadata": {},
     "output_type": "execute_result"
    }
   ],
   "source": [
    "result.columns"
   ]
  },
  {
   "cell_type": "code",
   "execution_count": 6,
   "metadata": {},
   "outputs": [],
   "source": [
    "result.columns = ['For Lookup', 'Year', 'Credit Name', 'State', 'Security ID',\n",
    "       'Org ID', 'FYE', 'Accounting Basis', 'Pension Plan 1 Name',\n",
    "       'Pension Plan 1 Measurement Date',\n",
    "       'Pension Plan 1 Total Pension Liability', 'Balance Sheet Cash',\n",
    "       'Pension Plan 2 Name', 'Pension Plan 2 Measurement Date',\n",
    "       'Pension Plan 2 Total Pension Liability']"
   ]
  },
  {
   "cell_type": "raw",
   "metadata": {},
   "source": [
    "result_pp = pp.ProfileReport(result)\n",
    "result_pp.to_file('result.html')\n",
    "pdfkit.from_file('result.html', 'result.pdf')"
   ]
  },
  {
   "cell_type": "raw",
   "metadata": {},
   "source": [
    "pension_pp = pp.ProfileReport(pension)\n",
    "pension_pp.to_file('pension.html')\n",
    "pdfkit.from_file('pension.html', 'pension.pdf')"
   ]
  },
  {
   "cell_type": "raw",
   "metadata": {},
   "source": [
    "rules_pp = pp.ProfileReport(rules)\n",
    "rules_pp.to_file('rules.html')\n",
    "pdfkit.from_file('rules.html', 'rules.pdf')"
   ]
  },
  {
   "cell_type": "code",
   "execution_count": 7,
   "metadata": {},
   "outputs": [
    {
     "data": {
      "text/html": [
       "<div>\n",
       "<style scoped>\n",
       "    .dataframe tbody tr th:only-of-type {\n",
       "        vertical-align: middle;\n",
       "    }\n",
       "\n",
       "    .dataframe tbody tr th {\n",
       "        vertical-align: top;\n",
       "    }\n",
       "\n",
       "    .dataframe thead th {\n",
       "        text-align: right;\n",
       "    }\n",
       "</style>\n",
       "<table border=\"1\" class=\"dataframe\">\n",
       "  <thead>\n",
       "    <tr style=\"text-align: right;\">\n",
       "      <th></th>\n",
       "      <th>For Lookup</th>\n",
       "      <th>Year</th>\n",
       "      <th>Credit Name</th>\n",
       "      <th>State</th>\n",
       "      <th>Security ID</th>\n",
       "      <th>Org ID</th>\n",
       "      <th>FYE</th>\n",
       "      <th>Accounting Basis</th>\n",
       "      <th>Pension Plan 1 Name</th>\n",
       "      <th>Pension Plan 1 Measurement Date</th>\n",
       "      <th>Pension Plan 1 Total Pension Liability</th>\n",
       "      <th>Balance Sheet Cash</th>\n",
       "      <th>Pension Plan 2 Name</th>\n",
       "      <th>Pension Plan 2 Measurement Date</th>\n",
       "      <th>Pension Plan 2 Total Pension Liability</th>\n",
       "    </tr>\n",
       "  </thead>\n",
       "  <tbody>\n",
       "    <tr>\n",
       "      <th>0</th>\n",
       "      <td>1013737_2016</td>\n",
       "      <td>2016</td>\n",
       "      <td>Jeannette</td>\n",
       "      <td>PA</td>\n",
       "      <td>1013737</td>\n",
       "      <td>8612</td>\n",
       "      <td>31/12/2016</td>\n",
       "      <td>NaN</td>\n",
       "      <td>NaN</td>\n",
       "      <td>NaN</td>\n",
       "      <td>NaN</td>\n",
       "      <td>NaN</td>\n",
       "      <td>NaN</td>\n",
       "      <td>NaN</td>\n",
       "      <td>NaN</td>\n",
       "    </tr>\n",
       "    <tr>\n",
       "      <th>1</th>\n",
       "      <td>1028564_2016</td>\n",
       "      <td>2016</td>\n",
       "      <td>Dickinson</td>\n",
       "      <td>ND</td>\n",
       "      <td>1028564</td>\n",
       "      <td>12020</td>\n",
       "      <td>31/12/2016</td>\n",
       "      <td>NaN</td>\n",
       "      <td>NaN</td>\n",
       "      <td>NaN</td>\n",
       "      <td>NaN</td>\n",
       "      <td>NaN</td>\n",
       "      <td>NaN</td>\n",
       "      <td>NaN</td>\n",
       "      <td>NaN</td>\n",
       "    </tr>\n",
       "    <tr>\n",
       "      <th>2</th>\n",
       "      <td>711506_2016</td>\n",
       "      <td>2016</td>\n",
       "      <td>Rawlins County</td>\n",
       "      <td>KS</td>\n",
       "      <td>711506</td>\n",
       "      <td>494151</td>\n",
       "      <td>31/12/2016</td>\n",
       "      <td>NaN</td>\n",
       "      <td>NaN</td>\n",
       "      <td>NaN</td>\n",
       "      <td>NaN</td>\n",
       "      <td>NaN</td>\n",
       "      <td>NaN</td>\n",
       "      <td>NaN</td>\n",
       "      <td>NaN</td>\n",
       "    </tr>\n",
       "    <tr>\n",
       "      <th>3</th>\n",
       "      <td>702336_2016</td>\n",
       "      <td>2016</td>\n",
       "      <td>Stone County</td>\n",
       "      <td>MO</td>\n",
       "      <td>702336</td>\n",
       "      <td>326056</td>\n",
       "      <td>31/12/2016</td>\n",
       "      <td>NaN</td>\n",
       "      <td>NaN</td>\n",
       "      <td>NaN</td>\n",
       "      <td>NaN</td>\n",
       "      <td>NaN</td>\n",
       "      <td>NaN</td>\n",
       "      <td>NaN</td>\n",
       "      <td>NaN</td>\n",
       "    </tr>\n",
       "    <tr>\n",
       "      <th>4</th>\n",
       "      <td>1029684_2017</td>\n",
       "      <td>2017</td>\n",
       "      <td>Anchorage</td>\n",
       "      <td>AK</td>\n",
       "      <td>1029684</td>\n",
       "      <td>27613</td>\n",
       "      <td>31/12/2017</td>\n",
       "      <td>NaN</td>\n",
       "      <td>NaN</td>\n",
       "      <td>NaN</td>\n",
       "      <td>NaN</td>\n",
       "      <td>NaN</td>\n",
       "      <td>NaN</td>\n",
       "      <td>NaN</td>\n",
       "      <td>NaN</td>\n",
       "    </tr>\n",
       "  </tbody>\n",
       "</table>\n",
       "</div>"
      ],
      "text/plain": [
       "     For Lookup  Year      Credit Name State  Security ID  Org ID         FYE  \\\n",
       "0  1013737_2016  2016        Jeannette    PA      1013737    8612  31/12/2016   \n",
       "1  1028564_2016  2016        Dickinson    ND      1028564   12020  31/12/2016   \n",
       "2   711506_2016  2016  Rawlins County     KS       711506  494151  31/12/2016   \n",
       "3   702336_2016  2016     Stone County    MO       702336  326056  31/12/2016   \n",
       "4  1029684_2017  2017        Anchorage    AK      1029684   27613  31/12/2017   \n",
       "\n",
       "   Accounting Basis  Pension Plan 1 Name  Pension Plan 1 Measurement Date  \\\n",
       "0               NaN                  NaN                              NaN   \n",
       "1               NaN                  NaN                              NaN   \n",
       "2               NaN                  NaN                              NaN   \n",
       "3               NaN                  NaN                              NaN   \n",
       "4               NaN                  NaN                              NaN   \n",
       "\n",
       "   Pension Plan 1 Total Pension Liability  Balance Sheet Cash  \\\n",
       "0                                     NaN                 NaN   \n",
       "1                                     NaN                 NaN   \n",
       "2                                     NaN                 NaN   \n",
       "3                                     NaN                 NaN   \n",
       "4                                     NaN                 NaN   \n",
       "\n",
       "   Pension Plan 2 Name  Pension Plan 2 Measurement Date  \\\n",
       "0                  NaN                              NaN   \n",
       "1                  NaN                              NaN   \n",
       "2                  NaN                              NaN   \n",
       "3                  NaN                              NaN   \n",
       "4                  NaN                              NaN   \n",
       "\n",
       "   Pension Plan 2 Total Pension Liability  \n",
       "0                                     NaN  \n",
       "1                                     NaN  \n",
       "2                                     NaN  \n",
       "3                                     NaN  \n",
       "4                                     NaN  "
      ]
     },
     "execution_count": 7,
     "metadata": {},
     "output_type": "execute_result"
    }
   ],
   "source": [
    "result.head()"
   ]
  },
  {
   "cell_type": "code",
   "execution_count": 8,
   "metadata": {},
   "outputs": [
    {
     "data": {
      "text/html": [
       "<div>\n",
       "<style scoped>\n",
       "    .dataframe tbody tr th:only-of-type {\n",
       "        vertical-align: middle;\n",
       "    }\n",
       "\n",
       "    .dataframe tbody tr th {\n",
       "        vertical-align: top;\n",
       "    }\n",
       "\n",
       "    .dataframe thead th {\n",
       "        text-align: right;\n",
       "    }\n",
       "</style>\n",
       "<table border=\"1\" class=\"dataframe\">\n",
       "  <thead>\n",
       "    <tr style=\"text-align: right;\">\n",
       "      <th></th>\n",
       "      <th>For Lookup</th>\n",
       "      <th>Year</th>\n",
       "      <th>Credit\n",
       "Name</th>\n",
       "      <th>State</th>\n",
       "      <th>Security\n",
       "ID</th>\n",
       "      <th>Org\n",
       "ID</th>\n",
       "      <th>FYE</th>\n",
       "      <th>Accounting Basis</th>\n",
       "      <th>Pension Plan 1 Name</th>\n",
       "      <th>Pension Plan 1 Measurement Date</th>\n",
       "      <th>Pension Plan 1 Total Pension Liability</th>\n",
       "      <th>Balance Sheet Cash</th>\n",
       "      <th>Pension Plan 2 Name</th>\n",
       "      <th>Pension Plan 2 Measurement Date</th>\n",
       "      <th>Pension Plan 2 Total Pension Liability</th>\n",
       "    </tr>\n",
       "  </thead>\n",
       "  <tbody>\n",
       "    <tr>\n",
       "      <th>0</th>\n",
       "      <td>NaN</td>\n",
       "      <td>2017</td>\n",
       "      <td>Calhoun</td>\n",
       "      <td>GA</td>\n",
       "      <td>1013737</td>\n",
       "      <td>8612</td>\n",
       "      <td>2017-07-30</td>\n",
       "      <td>Accrual</td>\n",
       "      <td>GA_Muni Asso</td>\n",
       "      <td>June 30, 2017</td>\n",
       "      <td>13278.249</td>\n",
       "      <td>1619.554</td>\n",
       "      <td>GA_City Charter Unfunded Pen Plan</td>\n",
       "      <td>0</td>\n",
       "      <td>402.436</td>\n",
       "    </tr>\n",
       "    <tr>\n",
       "      <th>1</th>\n",
       "      <td>NaN</td>\n",
       "      <td>2017</td>\n",
       "      <td>Engelwood</td>\n",
       "      <td>CO</td>\n",
       "      <td>1028564</td>\n",
       "      <td>12020</td>\n",
       "      <td>2017-12-31</td>\n",
       "      <td>Accrual</td>\n",
       "      <td>CO_Nonemer Emp Ret Sys</td>\n",
       "      <td>Dec 31, 2017</td>\n",
       "      <td>43838.563</td>\n",
       "      <td>12175.360</td>\n",
       "      <td>CO_Pol Off Pen Plan</td>\n",
       "      <td>0</td>\n",
       "      <td>0.000</td>\n",
       "    </tr>\n",
       "    <tr>\n",
       "      <th>2</th>\n",
       "      <td>NaN</td>\n",
       "      <td>2017</td>\n",
       "      <td>Detroit</td>\n",
       "      <td>MI</td>\n",
       "      <td>711506</td>\n",
       "      <td>494151</td>\n",
       "      <td>2017-06-30</td>\n",
       "      <td>Accrual</td>\n",
       "      <td>MI_Gen Ret Sys</td>\n",
       "      <td>June 30, 2016</td>\n",
       "      <td>NaN</td>\n",
       "      <td>517113.529</td>\n",
       "      <td>MI_Pol &amp; Fire Ret Sys</td>\n",
       "      <td>0</td>\n",
       "      <td>0.000</td>\n",
       "    </tr>\n",
       "    <tr>\n",
       "      <th>3</th>\n",
       "      <td>NaN</td>\n",
       "      <td>2017</td>\n",
       "      <td>Joplin</td>\n",
       "      <td>MO</td>\n",
       "      <td>702336</td>\n",
       "      <td>326056</td>\n",
       "      <td>2017-10-31</td>\n",
       "      <td>Accrual</td>\n",
       "      <td>MO_Polman &amp; Firemen Pen Plan</td>\n",
       "      <td>Oct 31, 2017</td>\n",
       "      <td>64303.000</td>\n",
       "      <td>6483.409</td>\n",
       "      <td>MO_Loc Govt Emp Ret Sys</td>\n",
       "      <td>June 30, 2017</td>\n",
       "      <td>52488.000</td>\n",
       "    </tr>\n",
       "    <tr>\n",
       "      <th>4</th>\n",
       "      <td>NaN</td>\n",
       "      <td>2017</td>\n",
       "      <td>Orange</td>\n",
       "      <td>TX</td>\n",
       "      <td>1029684</td>\n",
       "      <td>27613</td>\n",
       "      <td>2017-09-30</td>\n",
       "      <td>Accrual</td>\n",
       "      <td>TX_Firemen Reli &amp; Ret Fund</td>\n",
       "      <td>Dec 31, 2016</td>\n",
       "      <td>64303.000</td>\n",
       "      <td>6822.493</td>\n",
       "      <td>TX_Muni Ret Sys</td>\n",
       "      <td>0</td>\n",
       "      <td>19344.058</td>\n",
       "    </tr>\n",
       "  </tbody>\n",
       "</table>\n",
       "</div>"
      ],
      "text/plain": [
       "   For Lookup  Year Credit\\nName State  Security\\nID  Org\\nID        FYE  \\\n",
       "0         NaN  2017      Calhoun    GA       1013737     8612 2017-07-30   \n",
       "1         NaN  2017    Engelwood    CO       1028564    12020 2017-12-31   \n",
       "2         NaN  2017      Detroit    MI        711506   494151 2017-06-30   \n",
       "3         NaN  2017       Joplin    MO        702336   326056 2017-10-31   \n",
       "4         NaN  2017       Orange    TX       1029684    27613 2017-09-30   \n",
       "\n",
       "  Accounting Basis           Pension Plan 1 Name  \\\n",
       "0          Accrual                  GA_Muni Asso   \n",
       "1          Accrual        CO_Nonemer Emp Ret Sys   \n",
       "2          Accrual                MI_Gen Ret Sys   \n",
       "3          Accrual  MO_Polman & Firemen Pen Plan   \n",
       "4          Accrual    TX_Firemen Reli & Ret Fund   \n",
       "\n",
       "  Pension Plan 1 Measurement Date  Pension Plan 1 Total Pension Liability  \\\n",
       "0                   June 30, 2017                               13278.249   \n",
       "1                    Dec 31, 2017                               43838.563   \n",
       "2                   June 30, 2016                                     NaN   \n",
       "3                    Oct 31, 2017                               64303.000   \n",
       "4                    Dec 31, 2016                               64303.000   \n",
       "\n",
       "   Balance Sheet Cash                Pension Plan 2 Name  \\\n",
       "0            1619.554  GA_City Charter Unfunded Pen Plan   \n",
       "1           12175.360                CO_Pol Off Pen Plan   \n",
       "2          517113.529              MI_Pol & Fire Ret Sys   \n",
       "3            6483.409            MO_Loc Govt Emp Ret Sys   \n",
       "4            6822.493                    TX_Muni Ret Sys   \n",
       "\n",
       "  Pension Plan 2 Measurement Date  Pension Plan 2 Total Pension Liability  \n",
       "0                               0                                 402.436  \n",
       "1                               0                                   0.000  \n",
       "2                               0                                   0.000  \n",
       "3                   June 30, 2017                               52488.000  \n",
       "4                               0                               19344.058  "
      ]
     },
     "execution_count": 8,
     "metadata": {},
     "output_type": "execute_result"
    }
   ],
   "source": [
    "rules.head()"
   ]
  },
  {
   "cell_type": "code",
   "execution_count": 9,
   "metadata": {},
   "outputs": [
    {
     "data": {
      "text/plain": [
       "['Morrison,IL',\n",
       " 'Northville,MI',\n",
       " 'Mount Joy Boro,PA',\n",
       " 'Bissonnet Mun Util Dist,TX',\n",
       " 'Henrietta Township,MI',\n",
       " 'Atlanta,GA',\n",
       " 'Bilma Pub Util Dist,TX',\n",
       " 'Wilkes Cnty,NC',\n",
       " 'Ewing Twp,NJ',\n",
       " 'Franklin Cnty,MO',\n",
       " 'Faribault,MN',\n",
       " 'Hillsborough Cnty (countywide GF & DSF),FL',\n",
       " 'Berlin Twn,CT',\n",
       " 'Mayville Vill,NY',\n",
       " 'Bienville Parish Police Jury,LA',\n",
       " 'Fort Bend County,TX',\n",
       " 'San Diego,CA',\n",
       " 'Buffalo,NY',\n",
       " 'Milwaukee Cnty,WI',\n",
       " 'Wayne Twp,NJ',\n",
       " 'Ship Bottom Boro,NJ',\n",
       " 'Broward Cnty,FL',\n",
       " 'San Francisco City and Cnty,CA',\n",
       " 'Perth Amboy,NJ',\n",
       " 'Jay Cnty,IN',\n",
       " 'Jamestown Park District,ND',\n",
       " 'Groton,MA',\n",
       " 'Harris Cnty,TX',\n",
       " 'Noblesville,IN',\n",
       " 'Gettysburg,PA',\n",
       " 'Alpharetta,GA',\n",
       " 'Chandler,AZ',\n",
       " 'West Windsor Twp,NJ',\n",
       " 'Hutchinson,KS',\n",
       " 'Berkeley Cnty,SC',\n",
       " 'Lexington-Fayette Urban Cnty Govt,KY',\n",
       " 'Regional Transportation Commission,NV',\n",
       " 'Jasper Cnty,MO',\n",
       " 'Sni Valley Fire Protection District,MO',\n",
       " 'Rockwood,TN',\n",
       " 'Austin Cnty,TX',\n",
       " 'Leavenworth Cnty,KS',\n",
       " 'Davenport,IA',\n",
       " 'Winston-Salem,NC',\n",
       " 'Mobile Cnty,AL',\n",
       " 'Williams Cnty,OH',\n",
       " 'Snyderville Basin Spl Recre Dist,UT',\n",
       " 'Harris Cnty Mun Util Dist #155,TX',\n",
       " 'Boulder Cnty,CO',\n",
       " 'Junction City,KS',\n",
       " 'Anderson Cnty,TN',\n",
       " 'Fort Pierce,FL',\n",
       " 'Cape May Point Boro,NJ',\n",
       " 'Oak Park,MI',\n",
       " 'Park Ridge Recre & Pk Dist,IL',\n",
       " 'Ellis,KS',\n",
       " 'Antigo,WI',\n",
       " 'Fruita,CO',\n",
       " 'West Warwick,RI',\n",
       " 'Chelford City Mun Util Dist,TX',\n",
       " 'Lowell,MA',\n",
       " 'Hawaii Cnty,HI',\n",
       " 'Cook Cnty,IL',\n",
       " 'Eagan,MN',\n",
       " 'Durham Cnty,NC',\n",
       " 'Manchester,NH',\n",
       " 'Multnomah Cnty,OR',\n",
       " 'Flowood,MS',\n",
       " 'Rossford,OH',\n",
       " 'Sioux Falls,SD',\n",
       " 'Cheyenne,WY',\n",
       " \"O'Fallon IL\",\n",
       " 'Avon,CT',\n",
       " 'Burlington,VT',\n",
       " 'Springfield,TN',\n",
       " 'Laramie,WY',\n",
       " 'Chicago Pk Dist,IL',\n",
       " 'Prince Georges Cnty,MD',\n",
       " 'Hamburg Boro,PA',\n",
       " 'Washington Cnty,TN',\n",
       " 'Marblehead Twn,MA',\n",
       " 'Alcoa,TN',\n",
       " 'Santa Fe Cnty,NM',\n",
       " 'Adams Twp,MI',\n",
       " 'King Cnty,WA',\n",
       " 'Seattle,WA',\n",
       " 'Nez Perce Cnty,ID',\n",
       " 'Boston,MA',\n",
       " 'Portland,ME',\n",
       " 'Minot,ND',\n",
       " 'Dallas Cnty Util & Reclamation Dist,TX',\n",
       " 'Azusa,CA',\n",
       " 'Bay Area Rapid Transit (BART),CA',\n",
       " 'Ocean View,DE',\n",
       " 'Tulsa,OK',\n",
       " 'Auburn,WA',\n",
       " 'Calhoun,GA',\n",
       " 'Omaha,NE',\n",
       " 'Petersburg,VA',\n",
       " 'Fairbanks-North Star Boro,AK']"
      ]
     },
     "execution_count": 9,
     "metadata": {},
     "output_type": "execute_result"
    }
   ],
   "source": [
    "train_files"
   ]
  },
  {
   "cell_type": "code",
   "execution_count": 10,
   "metadata": {},
   "outputs": [
    {
     "data": {
      "text/plain": [
       "['Lake Benton_MN_23324_G O Municipality & County_City _2017.pdf',\n",
       " 'Texarkana_AR_2518_G O Municipality & County_City_2017.pdf',\n",
       " 'Ipswich Twn_MA_340179_G O Municipality & County_Town_2018.pdf',\n",
       " 'Ste. Genevieve_MO_321475_G O Municipality & County_City _2017.pdf',\n",
       " 'Fayetteville_AR_1499_G O Municipality & County_City_2017.pdf',\n",
       " 'Wallace County_KS_485563_G O Municipality & County_County_2017.pdf',\n",
       " 'Pleasant Grove_UT_27947_G O Municipality & County_City _2018.pdf',\n",
       " 'Talladega_AL_8999_G O Municipality & County_City_2017.pdf',\n",
       " 'Fillmore Cnty_NE_491999_G O Municipality & County_County_2017.pdf',\n",
       " 'Red Oak_TX_13782_G O Municipality & County_City_2017.pdf',\n",
       " 'Harris Cnty Mun Util Dist #168_TX_26773_G O Municipality & County_Special District_2018.Pdf.pdf',\n",
       " 'Anchorage_AK_27613_G O Municipality & County_City_2017.pdf',\n",
       " 'Utica City_VT_17524_G O Municipality & County_City_2018.pdf',\n",
       " 'Sharon_PA_26199_G O Municipality & County_City_2017.pdf',\n",
       " 'Clay Cnty_KS_475061_G O Municipality & County_County_2017.pdf',\n",
       " 'Audubon Cnty_IA_303832_G O Municipality & County_County_2017.pdf',\n",
       " 'Cordova Rec and Park_CA_623440_G O Municipality & County_Special District_2017.pdf',\n",
       " 'Ansonia_CT_300854_G O Municipality & County_City _2018.pdf',\n",
       " 'St Johns Cnty_FL_2840_G O Municipality & County_County_2017.pdf',\n",
       " 'Kitsap Cnty_WA_11962_G O Municipality & County_County_2017.pdf',\n",
       " 'Seguin_TX_11139_G O Municipality & County_City_2018.pdf',\n",
       " 'Milpitas_CA_344039_G O Municipality & County_City_2018.pdf',\n",
       " 'Pima Cnty_AZ_1422_G O Municipality & County_County_2018.pdf',\n",
       " 'Fond Du Lac_WI_6846_G O Municipality & County_City_2017.pdf',\n",
       " 'Minneapolis_KS_523347_G O Municipality & County_City _2017.pdf',\n",
       " 'Ocean City_NJ_4115_G O Municipality & County_City_2017.pdf',\n",
       " 'Mason Creek Util Dist_TX_7162_G O Municipality & County_Special District_2018.pdf',\n",
       " '.ipynb_checkpoints',\n",
       " 'Utah Cnty_UT_16030_G O Municipality & County_County_2017.pdf',\n",
       " 'Shelby Cnty_AL_21033_G O Municipality & County_County_2017.pdf',\n",
       " 'Nassau Cnty_NY_3677_G O Municipality & County_County_2017.pdf',\n",
       " 'Providence_RI_7947_G O Municipality & County_City_2018.pdf',\n",
       " 'Angleton Danbury Hosp Dist_TX_15837_G O Municipality & County_Special District_2017.pdf',\n",
       " 'Summit Cnty_OH_5816_G O Municipality & County_County_2017.pdf',\n",
       " 'East Haddam_CT_12833_G O Municipality & County_Town_2018.pdf',\n",
       " 'Woods Cross_UT_20994_G O Municipality & County_City_2018.pdf',\n",
       " 'Belmont Cnty_OH_13654_G O Municipality & County_County_2017.pdf',\n",
       " 'Las Cruces_NM_2956_G O Municipality & County_City _2018.pdf',\n",
       " 'Crestview_FL_2916_G O Municipality & County_City_2017.pdf',\n",
       " 'Moscow_ID_326597_G O Municipality & County_City _2017.pdf',\n",
       " 'Joliet Pk Dist_IL_12617_G O Municipality & County_Special District_2017.pdf',\n",
       " 'Sussex Cnty_DE_13218_G O Municipality & County_County_2018.pdf',\n",
       " 'Kalispell _MT_361330_G O Municipality & County_City _2018.pdf',\n",
       " 'Plaquemine_LA_322719_G O Municipality & County_City _2017.pdf',\n",
       " 'Salem_NH_12414_G O Municipality & County_Town_2017.pdf',\n",
       " 'Chelan Cnty_WA_15594_G O Municipality & County_County_2017.pdf',\n",
       " 'Grundy Cnty_IL_362269_G O Municipality & County_County_2018.pdf',\n",
       " 'Commerce_CA_379093_G O Municipality & County_City_2018.pdf',\n",
       " 'Geneva County_AL_571349_G O Municipality & County_County_2017.pdf',\n",
       " 'Dodge City_KS_15059_G O Municipality & County_City _2017.pdf',\n",
       " 'Bath Charter Twp_MI_378353_G O Municipality & County_Town_2017.pdf',\n",
       " 'Pine Bluff_AR_14783_G O Municipality & County_City _2017.pdf',\n",
       " 'Oro Vy_AZ_20742_G O Municipality & County_Town_2017.pdf',\n",
       " 'Travis Cnty Mun Util Dist No.11_TX_557386_G O Municipality & County_special District_2018.Pdf.pdf',\n",
       " 'Fredericksburg_VA_6586_G O Municipality & County_City _2018.pdf',\n",
       " 'El Paso De Robles  aka Paso Robles _CA_17712_G O Municipality & County_City _2018.pdf',\n",
       " 'Sea Isle City_NJ_10889_G O Municipality & County_City_2017.pdf',\n",
       " 'River Trails Pk Dist_IL_347152_G O Municipality & County_Special District_2017.pdf',\n",
       " 'Killingly Twn_CT_550_G O Municipality & County_Town_2017.pdf',\n",
       " 'Yonkers_NY_3562_G O Municipality & County_City _2018.pdf',\n",
       " 'Valdez_AK_1129_G O Municipality & County_City_2017.pdf',\n",
       " 'Farmers Branch_TX_22559_G O Municipality & County_City_2018.pdf',\n",
       " 'Clay Twp_MI_345734_G O Municipality & County_Town_2018.pdf',\n",
       " 'Hot Springs_SD_553948_G O Municipality & County_City _2017.pdf',\n",
       " 'Stone County_MO_326056_G O Municipality & County_County_2016.pdf',\n",
       " 'Rawlins County_KS_494151_G O Municipality & County_County_2016.pdf',\n",
       " 'Harris Cnty Mun Util Dist 354_TX_326743_G O Municipality & County_Special District_2017.pdf',\n",
       " 'Sweetwater Cnty_WY_15662_G O Municipality & County_County_2017.pdf',\n",
       " 'South Florida Wtr Mgt Dist_FL_13376_G O Municipality & County_Special District_2017.pdf',\n",
       " 'Williamson Cnty Mun Util Dist 11_TX_479501_G O Municipality & County_special District_2018.pdf',\n",
       " 'Reno_NV_4397_G O Municipality & County_City_2018.pdf',\n",
       " 'St Louis Regl Arpt Auth_IL_333960_G O Municipality & County_Special District_2018.pdf',\n",
       " 'Smithfield_RI_7948_G O Municipality & County_Town_2018.pdf',\n",
       " 'Garfield Township_MI_521870_G O Municipality & County_Town_2017.pdf',\n",
       " 'Tamarac_FL_10088_G O Municipality & County_City_2018.pdf',\n",
       " 'Virginia Peninsula Regl Jail Auth_VA_303122_G O Municipality & County_Special District_2017.pdf',\n",
       " 'Summerdale_AL_405045_G O Municipality & County_City_2017.pdf',\n",
       " 'Snoqualmie_WA_367048_G O Municipality & County_City_2017.pdf',\n",
       " 'Dickinson_ND_12020_G O Municipality & County_City_2016.pdf',\n",
       " 'Greenfield_MA_23202_G O Municipality & County_Town_2017.pdf',\n",
       " 'Pointe Coupee Parish_LA_14599_G O Municipality & County_County_2017.pdf',\n",
       " 'St. Bernard Parish_LA_89_G O Municipality & County_County_2017.pdf',\n",
       " 'La Paz Cnty_AZ_372467_G O Municipality & County_County_2017.pdf',\n",
       " 'Jefferson Cnty  GO _AL_10928_G O Municipality & County_County_2017.pdf',\n",
       " 'Buford_GA_14231_G O Municipality & County_City _2016.pdf',\n",
       " 'Annapolis_MD_1784_G O Municipality & County_City_2018.pdf',\n",
       " 'Shell Rock River Watershed District_MN_607184_G O Municipality & County_Special District_2017.pdf',\n",
       " 'Jeannette_PA_8612_G O Municipality & County_City _2016.pdf',\n",
       " 'Denver City Cnty_CO_1025_G O Municipality & County_County_2017.pdf',\n",
       " 'Grand Meadow_MN_490158_G O Municipality & County_City _2017.pdf',\n",
       " 'Centerville City_UT_467721_G O Municipality & County_City _2018.pdf',\n",
       " 'Burleigh Cnty_ND_10620_G O Municipality & County_County_2017.pdf',\n",
       " 'NOVATO_CA_20829_G O Municipality & County_City _2017.pdf',\n",
       " 'Jones Cnty_MS_21281_G O Municipality & County_County_2017.pdf',\n",
       " 'Gwinnett Cnty_GA_9457_G O Municipality & County_County_2017.pdf',\n",
       " 'Hidalgo Cnty Dr Dist 1_TX_7635_G O Municipality & County_Special District_2017.pdf',\n",
       " 'Spring Creek Utility District_TX_322417_G O Municipality & County_Special District_2018.pdf',\n",
       " 'Wadsworth_OH_25271_G O Municipality & County_City _2017.pdf',\n",
       " 'Surry Cnty_NC_3385_G O Municipality & County_County_2018.pdf']"
      ]
     },
     "execution_count": 10,
     "metadata": {},
     "output_type": "execute_result"
    }
   ],
   "source": [
    "test_files"
   ]
  },
  {
   "cell_type": "code",
   "execution_count": 56,
   "metadata": {},
   "outputs": [],
   "source": [
    "data = list(map(lambda x : x.strip().lower(), [x for x in parser.from_file('Test Data/' + test_files[0])['content'].split('\\n') if x!='' and x!=' ']))"
   ]
  },
  {
   "cell_type": "code",
   "execution_count": 57,
   "metadata": {},
   "outputs": [
    {
     "data": {
      "text/plain": [
       "False"
      ]
     },
     "execution_count": 57,
     "metadata": {},
     "output_type": "execute_result"
    }
   ],
   "source": [
    "'basis' in data"
   ]
  },
  {
   "cell_type": "code",
   "execution_count": 64,
   "metadata": {},
   "outputs": [
    {
     "name": "stdout",
     "output_type": "stream",
     "text": [
      "schedule of city’s proportionate share of general net pension liability 55\n",
      "schedule of city’s proportionate share of police and fire net pension liability                            57\n",
      "net pension liability 134,251 45,964 180,215\n",
      "net pension liability is not due and payable in the current\n",
      "net pension liability 32,175 13,789 -- 45,964\n",
      "for purposes of measuring the net pension liability, deferred outflows/inflows of resources\n",
      "net pension liability 342,748  23,132  231,629  134,251  0\n",
      "net pension liability 60,895  6,931  21,863  45,963  0\n",
      "the general employees fund’s net pension liability. the city’s net pension liability reflected\n",
      "proportionate share of the net pension liability associated with the city totaled $1,953. the\n",
      "net pension liability was measured as of june 30, 2017, and the total pension liability used to\n",
      "calculate the net pension liability was determined by an actuarial valuation as of that date.\n",
      "the city’s proportion of the net pension liability was based on the city’s contributions\n",
      "the net pension liability in the year ended december 31, 2018. other amounts reported as\n",
      "police and fire fund’s net pension liability.  the net pension liability was measured as of june\n",
      "30, 2017, and the total pension liability used to calculate the net pension liability was determined\n",
      "by an actuarial valuation as of that date.  the city’s proportion of the net pension liability was\n",
      "and an offsetting reduction of net pension liability for its proportionate share of the state of\n",
      "the following presents the city’s proportionate share of the net pension liability for all plans\n",
      "well as what the city’s proportionate share of the net pension liability would be if it were\n",
      "sensitivity of net pension liability at current single discount rate (in thousands)\n",
      "fiscal year net pension liability share (amount) of the net net pension liability proportionate share of the covered-employee percentage of its covered- percentage of the\n",
      "ending (asset) pension liability (asset) (a) associated with the city (b) net pension liability (a+b) payroll (c) employee payroll ((a+b)/c) total pension liability\n",
      "schedule of city's proportionate share of net pension liability\n",
      "schedule of city's proportionate share of net pension liability\n"
     ]
    }
   ],
   "source": [
    "for i in data:\n",
    "    if 'net pension liability' in i:\n",
    "        print(i)\n",
    "        \n",
    "# for i in range(len(data)):\n",
    "#     if 'pension plan' in data[i]:\n",
    "#         print(i)"
   ]
  },
  {
   "cell_type": "code",
   "execution_count": 14,
   "metadata": {},
   "outputs": [],
   "source": [
    "account= ''\n",
    "expense = ''\n",
    "b1name = ''; b1date = ''; b1amt = 0\n",
    "b2name = ''; b2date = ''; b2amt = 0\n"
   ]
  },
  {
   "cell_type": "markdown",
   "metadata": {},
   "source": [
    "## First Detecting Account"
   ]
  },
  {
   "cell_type": "code",
   "execution_count": 15,
   "metadata": {},
   "outputs": [],
   "source": [
    "check = test_files[0]"
   ]
  },
  {
   "cell_type": "code",
   "execution_count": 16,
   "metadata": {},
   "outputs": [
    {
     "name": "stdout",
     "output_type": "stream",
     "text": [
      "Accrual\n"
     ]
    }
   ],
   "source": [
    "for i in data:\n",
    "    if 'basis of accounting' in i:\n",
    "        tmp = i.find('basis of accounting')\n",
    "        first = 0; last = 0;\n",
    "        if tmp - 50<0: #Checking for desired keyword in first and last 50 characters from the tmp\n",
    "            first = 0\n",
    "        else:\n",
    "            first = tmp - 50\n",
    "        \n",
    "        if tmp+50 > len(i)-1:\n",
    "            last = len(i) - 1\n",
    "        else:\n",
    "            last = tmp+50\n",
    "            \n",
    "        if 'modified accrual' in i[first:tmp] or 'modified accrual' in i[tmp:last]:\n",
    "            account = 'Modified Accrual'\n",
    "            break\n",
    "        elif 'modified cash' in i[first:tmp] or 'modified cash' in i[tmp:last]:\n",
    "            account = 'Modified Cash'\n",
    "            break\n",
    "        elif 'accrual' in i[first:tmp] or 'accrual' in i[tmp:last]:\n",
    "            account = 'Accrual'\n",
    "            break\n",
    "        elif 'cash' in i[first:tmp] or 'cash' in i[tmp:last]:\n",
    "            account = 'Cash'\n",
    "            break\n",
    "        elif 'regulatory' in i[first:tmp] or 'regulatory' in i[tmp:last]:\n",
    "            account = 'Regulatory'\n",
    "            break\n",
    "        else:\n",
    "            account = '0'\n",
    "print(account)\n",
    "            "
   ]
  },
  {
   "cell_type": "markdown",
   "metadata": {},
   "source": [
    "## Now detecting Balance Sheet Cash"
   ]
  },
  {
   "cell_type": "code",
   "execution_count": 17,
   "metadata": {},
   "outputs": [],
   "source": [
    "stack = []\n",
    "upto = 0\n",
    "bills = []; curr = [];"
   ]
  },
  {
   "cell_type": "code",
   "execution_count": 18,
   "metadata": {},
   "outputs": [],
   "source": [
    "def isblank (myString):\n",
    "    if myString and myString.strip():\n",
    "        #myString is not None AND myString is not empty or blank\n",
    "        return False\n",
    "    #myString is None OR myString is empty or blank\n",
    "    return True"
   ]
  },
  {
   "cell_type": "code",
   "execution_count": 19,
   "metadata": {},
   "outputs": [],
   "source": [
    "#For extracting money from the possible section of document\n",
    "def amount(stack):\n",
    "    temp = 0\n",
    "    target = ''\n",
    "    stack = list(map(lambda x: x.split(' '), stack))\n",
    "    for i in range(len(stack)):\n",
    "        stack[i] = list(map(lambda x: x.strip(string.punctuation+' '), stack[i]))\n",
    "        stack[i] = ' '.join(stack[i]).split() #For removing extra blank characters\n",
    "        for j in range(len(stack[i])):\n",
    "            if len(stack[i][j].split(',')) > 1:\n",
    "                var = stack[i][j].split(',')\n",
    "                for k in range(len(var)):\n",
    "                    try:\n",
    "                        int(var[k])\n",
    "                        target =  target + var[k] #Trying to avoid using spacy for detecting number here, for unknown scenario reasons\n",
    "                    except:\n",
    "                        break\n",
    "                                               \n",
    "                        \n",
    "        if isblank(target):\n",
    "            pass\n",
    "        else:\n",
    "            return int(target)\n",
    "\n",
    "\n",
    "\n"
   ]
  },
  {
   "cell_type": "code",
   "execution_count": 20,
   "metadata": {},
   "outputs": [
    {
     "name": "stdout",
     "output_type": "stream",
     "text": [
      "182009\n"
     ]
    }
   ],
   "source": [
    "for i in range(len(data)-1):\n",
    "#     print(i)\n",
    "    #First detecting if we've all the 4 keywords\n",
    "    if 'balance' in data[i]:\n",
    "        if 'sheet' in data[i]:\n",
    "            if 'government' in data[i]:\n",
    "                if 'fund' in data[i]:\n",
    "                    stack = data[i:i+30]\n",
    "                    expense = amount(stack)\n",
    "#                     print(\"Expense\", expense)\n",
    "                    if expense != None and expense != 0:\n",
    "#                         print('Four executing')\n",
    "                        del data[i:i+30]\n",
    "                        break\n",
    "                    else:\n",
    "                        pass\n",
    "    elif 'balance sheet' in data[i]:\n",
    "#         print(\"Second executing\")\n",
    "        expense = amount(stack)\n",
    "        if expense != None and expense != 0:\n",
    "            del data[i:i+30]\n",
    "            break\n",
    "        else:\n",
    "            pass\n",
    "print(expense)"
   ]
  },
  {
   "cell_type": "markdown",
   "metadata": {},
   "source": [
    "### Now Pension plan 1,2 name"
   ]
  },
  {
   "cell_type": "code",
   "execution_count": 21,
   "metadata": {},
   "outputs": [],
   "source": [
    "nlp = spacy.load('en_core_web_sm')"
   ]
  },
  {
   "cell_type": "code",
   "execution_count": 177,
   "metadata": {},
   "outputs": [],
   "source": [
    "b1name = None; b2name =  None; del1 = 0\n",
    "b1amt = ''; b2amt = '';\n",
    "b1date =  None; b2date =  None;"
   ]
  },
  {
   "cell_type": "code",
   "execution_count": 178,
   "metadata": {},
   "outputs": [
    {
     "name": "stdout",
     "output_type": "stream",
     "text": [
      "Next\t0\tnext\tFalse\tFalse\tXxxx\tADJ\tJJ\n",
      "week\t5\tweek\tFalse\tFalse\txxxx\tNOUN\tNN\n",
      "I\t10\t-PRON-\tFalse\tFalse\tX\tPRON\tPRP\n",
      "'ll\t11\twill\tFalse\tFalse\t'xx\tAUX\tMD\n",
      "  \t15\t  \tFalse\tTrue\t  \tSPACE\t_SP\n",
      "be\t17\tbe\tFalse\tFalse\txx\tVERB\tVB\n",
      "in\t20\tin\tFalse\tFalse\txx\tADP\tIN\n",
      "Madrid\t23\tMadrid\tFalse\tFalse\tXxxxx\tPROPN\tNNP\n",
      ",\t29\t,\tTrue\tFalse\t,\tPUNCT\t,\n",
      "which\t31\twhich\tFalse\tFalse\txxxx\tDET\tWDT\n",
      "means\t37\tmean\tFalse\tFalse\txxxx\tVERB\tVBZ\n",
      "on\t43\ton\tFalse\tFalse\txx\tADP\tIN\n",
      "1/12/22\t46\t1/12/22\tFalse\tFalse\td/dd/dd\tNUM\tCD\n",
      ",\t53\t,\tTrue\tFalse\t,\tPUNCT\t,\n",
      "2019\t55\t2019\tFalse\tFalse\tdddd\tNUM\tCD\n",
      "Next week\n"
     ]
    }
   ],
   "source": [
    "doc = nlp(\"Next week I'll   be in Madrid, which means on 1/12/22, 2019\")\n",
    "for token in doc:\n",
    "    print(\"{0}\\t{1}\\t{2}\\t{3}\\t{4}\\t{5}\\t{6}\\t{7}\".format(\n",
    "        token.text,\n",
    "        token.idx,\n",
    "        token.lemma_,\n",
    "        token.is_punct,\n",
    "        token.is_space,\n",
    "        token.shape_,\n",
    "        token.pos_,\n",
    "        token.tag_        \n",
    "    ))\n",
    "    \n",
    "for ent in doc.ents:\n",
    "    if ent.label_ == 'DATE':\n",
    "        print(ent.text)\n",
    "        break"
   ]
  },
  {
   "cell_type": "code",
   "execution_count": 179,
   "metadata": {},
   "outputs": [
    {
     "data": {
      "text/plain": [
       "'draft again 2.xls,annual financial report,for the year ended,december 31, 2017,kinner & company ltd'"
      ]
     },
     "execution_count": 179,
     "metadata": {},
     "output_type": "execute_result"
    }
   ],
   "source": [
    "','.join(data[0:5])"
   ]
  },
  {
   "cell_type": "code",
   "execution_count": 180,
   "metadata": {},
   "outputs": [],
   "source": [
    "data = list(map(lambda x : x.strip().lower(), [x for x in parser.from_file('Test Data/' + test_files[0])['content'].split('\\n') if x!='' and x!=' ']))"
   ]
  },
  {
   "cell_type": "markdown",
   "metadata": {},
   "source": [
    "## Pension Plan 1"
   ]
  },
  {
   "cell_type": "code",
   "execution_count": 181,
   "metadata": {},
   "outputs": [
    {
     "name": "stdout",
     "output_type": "stream",
     "text": [
      "next token was over the top\n",
      "Deleting 1948 to 1958\n",
      "This instance, wasn't good \n",
      "This is the pension plan 1 name investments\n",
      "This is the pension plan 1 date december 31\n",
      "This is the net liability money 342748\n",
      "Todel deleted was:  1722\n"
     ]
    }
   ],
   "source": [
    "for i in range(len(data)): # This is for detecting pension plan1 name and date\n",
    "#     print(i)\n",
    "    if 'pension plan' in data[i]:\n",
    "#         print(data[i])\n",
    "        tmp = data[i].split(' ')\n",
    "        tmp = ' '.join(tmp).split() \n",
    "#         print(tmp)\n",
    "#         print('*'*100)\n",
    "\n",
    "        for j in range(len(tmp)):\n",
    "            if tmp[j]=='plan':\n",
    "                doc = nlp(data[i])\n",
    "                for token in range(len(doc)):\n",
    "                    if doc[token].text == 'plan':\n",
    "                        try:\n",
    "#                             print(doc[token+1])\n",
    "#                             print(token, len(doc), \"im doing exp\")\n",
    "                            if doc[token+1].pos_=='NOUN':\n",
    "                                b1name = doc[token+1].text\n",
    "                                stack = ','.join(data[i:i+10])\n",
    "                                test = nlp(str(stack))\n",
    "                                for ent in test.ents:\n",
    "                                    if ent.label_ =='DATE':\n",
    "                                        b1date = ent.text\n",
    "                                        break\n",
    "                                \n",
    "                                \n",
    "                        except:\n",
    "                            print(\"next token was over the top\")\n",
    "               \n",
    "\n",
    "    if b1name != None and b1date != None:\n",
    "        print(\"Deleting\", i, \"to\", i+10) #Because don't wanna use it again!!\n",
    "        del data[i:i+10]\n",
    "        break\n",
    "\n",
    "# Now to detect pension plan 1 number\n",
    "large = -100\n",
    "todel = 0\n",
    "b1amt = ''\n",
    "for i in range(len(data)):\n",
    "    if 'net' in data[i]:\n",
    "        if 'pension' in data[i]:\n",
    "            if 'liability' in data[i]:\n",
    "               \n",
    "#                 print(data[i])\n",
    "#                 print('*' * 100)\n",
    "                tmp = data[i].split(' ')\n",
    "                tmp = ' '.join(tmp).split() \n",
    "#                 print(\" wanna see tmp too\", tmp)\n",
    "                for j in range(len(tmp)):\n",
    "                    b1amt = ''\n",
    "#                     if len(tmp[j].split(',')) > 1:                     # if len(' '.join('liability,'.split(',')).split()) > 1:\n",
    "                    if len(' '.join(tmp[j].split(',')).split()) > 1:\n",
    "#                         print(tmp[j])\n",
    "#                         print('*' * 100)\n",
    "                        broke = ' '.join(tmp[j].split(',')).split()\n",
    "                        \n",
    "#                         print(\"This is broke\", broke)\n",
    "#                         print('~' * 100)\n",
    "                        for k in range(len(broke)):\n",
    "                            try:\n",
    "                                int(broke[k])\n",
    "#                                 print(\"Int happened\")\n",
    "                                b1amt = b1amt + broke[k]\n",
    "#                                 print(\"This is b1amt\", b1amt)\n",
    "                            except:\n",
    "                                break\n",
    "                        try:\n",
    "                            if float(b1amt) > large:\n",
    "                                large = int(b1amt)\n",
    "                                todel = i\n",
    "                        except:\n",
    "                            print(\"This instance, wasn't good\", b1amt)\n",
    "\n",
    "\n",
    "b1amt = large\n",
    "del data[todel]\n",
    "        \n",
    "        \n",
    "print(\"This is the pension plan 1 name\", b1name)\n",
    "print(\"This is the pension plan 1 date\", b1date)\n",
    "print(\"This is the net liability money\", b1amt)\n",
    "print(\"Todel deleted was: \",todel)\n",
    "                        \n",
    "                \n",
    "                    \n",
    "                \n",
    "                          \n",
    "                 "
   ]
  },
  {
   "cell_type": "markdown",
   "metadata": {},
   "source": [
    "## Pension Plan 2"
   ]
  },
  {
   "cell_type": "code",
   "execution_count": 182,
   "metadata": {},
   "outputs": [
    {
     "name": "stdout",
     "output_type": "stream",
     "text": [
      "next token was over the top\n",
      "Deleting 1994 to 2004\n",
      "This instance, wasn't good \n",
      "This is the pension plan 2 name investments\n",
      "This is the pension plan 2 date the year ended december 31, 2018\n",
      "This is the net liability money 180215\n"
     ]
    }
   ],
   "source": [
    "for i in range(len(data)): # This is for detecting pension plan1 name and date\n",
    "    if 'pension plan' in data[i]:\n",
    "        tmp = data[i].split(' ')\n",
    "        tmp = ' '.join(tmp).split() \n",
    "        for j in range(len(tmp)):\n",
    "            if tmp[j]=='plan':\n",
    "                doc = nlp(data[i])\n",
    "                for token in range(len(doc)):\n",
    "                    if doc[token].text == 'plan':\n",
    "                        try:\n",
    "                            if doc[token+1].pos_=='NOUN':\n",
    "                                b2name = doc[token+1].text\n",
    "                                stack = ','.join(data[i:i+10])\n",
    "                                test = nlp(str(stack))\n",
    "                                for ent in test.ents:\n",
    "                                    if ent.label_ =='DATE':\n",
    "                                        b2date = ent.text\n",
    "                                        break\n",
    "\n",
    "                        except:\n",
    "                            print(\"next token was over the top\")\n",
    "               \n",
    "\n",
    "    if b2name != None and b2date != None:\n",
    "        print(\"Deleting\", i, \"to\", i+10) #Because don't wanna use it again, for pension plan 2!!\n",
    "        del data[i:i+10]\n",
    "        break\n",
    "\n",
    "# Now to detect pension plan 1 number\n",
    "large = -100\n",
    "todel = 0\n",
    "b2amt = ''\n",
    "for i in range(len(data)):\n",
    "    if 'net' in data[i]:\n",
    "        if 'pension' in data[i]:\n",
    "            if 'liability' in data[i]:\n",
    "                tmp = data[i].split(' ')\n",
    "                tmp = ' '.join(tmp).split() \n",
    "                for j in range(len(tmp)):\n",
    "                    b2amt = ''\n",
    "                    if len(' '.join(tmp[j].split(',')).split()) > 1:\n",
    "                        broke = ' '.join(tmp[j].split(',')).split()\n",
    "                        for k in range(len(broke)):\n",
    "                            try:\n",
    "                                int(broke[k])\n",
    "                                b2amt = b2amt + broke[k]\n",
    "                            except:\n",
    "                                break\n",
    "                        try:\n",
    "                            if float(b2amt) > large:\n",
    "                                large = int(b2amt)\n",
    "                                todel = i\n",
    "                        except:\n",
    "                            print(\"This instance, wasn't good\", b2amt)\n",
    "\n",
    "\n",
    "b2amt = large\n",
    "        \n",
    "        \n",
    "print(\"This is the pension plan 2 name\", b2name)\n",
    "print(\"This is the pension plan 2 date\", b2date)\n",
    "print(\"This is the net liability money\", b2amt)\n",
    "                        \n",
    "                \n",
    "                    \n",
    "                \n",
    "                          \n",
    "                 "
   ]
  },
  {
   "cell_type": "code",
   "execution_count": 151,
   "metadata": {},
   "outputs": [
    {
     "data": {
      "text/plain": [
       "1712"
      ]
     },
     "execution_count": 151,
     "metadata": {},
     "output_type": "execute_result"
    }
   ],
   "source": [
    "todel"
   ]
  },
  {
   "cell_type": "code",
   "execution_count": 145,
   "metadata": {},
   "outputs": [
    {
     "name": "stdout",
     "output_type": "stream",
     "text": [
      "1,174\n",
      "december 31\n",
      "5\n"
     ]
    }
   ],
   "source": [
    "for ent in test.ents:\n",
    "    print(ent)"
   ]
  },
  {
   "cell_type": "code",
   "execution_count": null,
   "metadata": {},
   "outputs": [],
   "source": [
    "if 'pension plan' in data[1916]:\n",
    "    print(1916)"
   ]
  },
  {
   "cell_type": "code",
   "execution_count": null,
   "metadata": {},
   "outputs": [],
   "source": [
    "data[1995]"
   ]
  },
  {
   "cell_type": "code",
   "execution_count": 29,
   "metadata": {},
   "outputs": [
    {
     "data": {
      "text/plain": [
       "2540"
      ]
     },
     "execution_count": 29,
     "metadata": {},
     "output_type": "execute_result"
    }
   ],
   "source": [
    "len(data)"
   ]
  },
  {
   "cell_type": "code",
   "execution_count": 78,
   "metadata": {},
   "outputs": [
    {
     "data": {
      "text/plain": [
       "2"
      ]
     },
     "execution_count": 78,
     "metadata": {},
     "output_type": "execute_result"
    }
   ],
   "source": [
    "len(' '.join('134,251'.split(',')).split())"
   ]
  },
  {
   "cell_type": "code",
   "execution_count": 84,
   "metadata": {},
   "outputs": [
    {
     "data": {
      "text/plain": [
       "['$1', '953.']"
      ]
     },
     "execution_count": 84,
     "metadata": {},
     "output_type": "execute_result"
    }
   ],
   "source": [
    "broke"
   ]
  },
  {
   "cell_type": "code",
   "execution_count": 85,
   "metadata": {},
   "outputs": [
    {
     "name": "stdout",
     "output_type": "stream",
     "text": [
      "0\n",
      "1\n"
     ]
    }
   ],
   "source": [
    "for i in range(len(['45', '964'])):\n",
    "    print("
   ]
  },
  {
   "cell_type": "code",
   "execution_count": 86,
   "metadata": {},
   "outputs": [],
   "source": [
    "bb = ['45', '964']"
   ]
  },
  {
   "cell_type": "code",
   "execution_count": 87,
   "metadata": {},
   "outputs": [
    {
     "data": {
      "text/plain": [
       "45"
      ]
     },
     "execution_count": 87,
     "metadata": {},
     "output_type": "execute_result"
    }
   ],
   "source": [
    "int(bb[0])"
   ]
  },
  {
   "cell_type": "code",
   "execution_count": 91,
   "metadata": {},
   "outputs": [
    {
     "data": {
      "text/plain": [
       "'45964'"
      ]
     },
     "execution_count": 91,
     "metadata": {},
     "output_type": "execute_result"
    }
   ],
   "source": [
    "bb[0]+bb[1]"
   ]
  },
  {
   "cell_type": "code",
   "execution_count": 94,
   "metadata": {},
   "outputs": [
    {
     "data": {
      "text/plain": [
       "'hello'"
      ]
     },
     "execution_count": 94,
     "metadata": {},
     "output_type": "execute_result"
    }
   ],
   "source": [
    "'' + 'hello'"
   ]
  },
  {
   "cell_type": "code",
   "execution_count": null,
   "metadata": {},
   "outputs": [],
   "source": []
  }
 ],
 "metadata": {
  "kernelspec": {
   "display_name": "Python 3",
   "language": "python",
   "name": "python3"
  },
  "language_info": {
   "codemirror_mode": {
    "name": "ipython",
    "version": 3
   },
   "file_extension": ".py",
   "mimetype": "text/x-python",
   "name": "python",
   "nbconvert_exporter": "python",
   "pygments_lexer": "ipython3",
   "version": "3.5.6"
  }
 },
 "nbformat": 4,
 "nbformat_minor": 2
}
